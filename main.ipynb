{
 "cells": [
  {
   "cell_type": "code",
   "execution_count": 4,
   "metadata": {},
   "outputs": [
    {
     "name": "stdout",
     "output_type": "stream",
     "text": [
      "Reading c:\\Users\\grego\\OneDrive\\Documents\\cogs-118c-song-familiarity\\data\\subject1\\sub-01_task-songfamiliarity_eeg.fdt\n",
      "Reading 0 ... 1807099  =      0.000 ...  1807.099 secs...\n",
      "<Info | 8 non-empty values\n",
      " bads: []\n",
      " ch_names: Fp1, F3, F7, FC5, FC1, FCz, C3, T7, TP9, CP5, CP1, Pz, P3, P7, ...\n",
      " chs: 32 EEG\n",
      " custom_ref_applied: False\n",
      " dig: 35 items (3 Cardinal, 32 EEG)\n",
      " highpass: 0.0 Hz\n",
      " lowpass: 500.0 Hz\n",
      " meas_date: unspecified\n",
      " nchan: 32\n",
      " projs: []\n",
      " sfreq: 1000.0 Hz\n",
      ">\n",
      "[[ 6.26690507e-07 -1.36414266e-06 -2.39269257e-06 ...  7.34802551e-05\n",
      "   7.60795364e-05  7.84163055e-05]\n",
      " [ 4.47712212e-05  4.13577881e-05  4.45301132e-05 ... -2.66145658e-06\n",
      "  -3.80891657e-06 -1.41250744e-07]\n",
      " [ 3.79548416e-05  3.37484283e-05  3.93421669e-05 ...  6.94403744e-06\n",
      "   1.17275648e-05  1.49056187e-05]\n",
      " [ 3.40858345e-05  3.10366974e-05  3.39455452e-05 ...  2.52606812e-05\n",
      "   2.85402775e-05  3.17569542e-05]\n",
      " [ 7.62951493e-07 -2.44054031e-06 -1.06173754e-07 ...  2.27950230e-05\n",
      "   2.10377178e-05  2.03138027e-05]]\n"
     ]
    }
   ],
   "source": [
    "import mne\n",
    "\n",
    "sub1_set = 'data/subject1/sub-01_task-songfamiliarity_eeg.set'\n",
    "\n",
    "# Read the raw data\n",
    "raw = mne.io.read_raw_eeglab(sub1_set, preload=True)\n",
    "\n",
    "# Print the head of the data\n",
    "print(raw.info)\n",
    "print(raw[:5][0])"
   ]
  }
 ],
 "metadata": {
  "kernelspec": {
   "display_name": "mne",
   "language": "python",
   "name": "python3"
  },
  "language_info": {
   "codemirror_mode": {
    "name": "ipython",
    "version": 3
   },
   "file_extension": ".py",
   "mimetype": "text/x-python",
   "name": "python",
   "nbconvert_exporter": "python",
   "pygments_lexer": "ipython3",
   "version": "3.12.9"
  }
 },
 "nbformat": 4,
 "nbformat_minor": 2
}
